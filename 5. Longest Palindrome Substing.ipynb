{
 "cells": [
  {
   "cell_type": "markdown",
   "metadata": {},
   "source": [
    "# 5. Longest Palindrome Substring"
   ]
  },
  {
   "cell_type": "markdown",
   "metadata": {},
   "source": [
    "**# Brute Force, # Dynamic Programming**"
   ]
  },
  {
   "cell_type": "markdown",
   "metadata": {},
   "source": [
    "Given a string **s**, return the longest palindromic substing in **s**.\n",
    "\n",
    "**Constraints**\n",
    "- 1 <= s, length <= 1000\n",
    "- s consist of only digits and English letters."
   ]
  },
  {
   "cell_type": "markdown",
   "metadata": {},
   "source": [
    "- Example 1:\n",
    "    - Input: s = \"babad\"\n",
    "    - Output: \"bab\"\n",
    "<br></br>\n",
    "\n",
    "- Example 2:\n",
    "    - Input: s = \"cbbd\"\n",
    "    - Output: \"bb\""
   ]
  },
  {
   "cell_type": "markdown",
   "metadata": {},
   "source": [
    "## My Approach"
   ]
  },
  {
   "cell_type": "markdown",
   "metadata": {},
   "source": [
    "1. initialize two pointers: one at the start of the string and another at the end of it (left, right)\n",
    "2. if <span style=\"background-color:gray; border-radius:5px\">s[left] == s[right]</span>, slice string and save in \"temp\"\n",
    "3. if \"temp\" and reverse of \"temp\" is equal, it is palindrome and check length of \"temp\""
   ]
  },
  {
   "cell_type": "code",
   "execution_count": null,
   "metadata": {},
   "outputs": [],
   "source": [
    "class Solution:\n",
    "    def longestPalindrome(self, s: str) -> str:\n",
    "        res = ''\n",
    "        for i in range(len(s)):\n",
    "            for j in range(len(s)-1, i-1, -1):\n",
    "                if s[i] == s[j]:\n",
    "                    left, right = i, j\n",
    "                    temp = s[left:right+1]\n",
    "\n",
    "                    if len(temp) <= len(res):\n",
    "                        break\n",
    "\n",
    "                    if temp == temp[::-1]:\n",
    "                        res = temp\n",
    "\n",
    "        return res    "
   ]
  },
  {
   "cell_type": "markdown",
   "metadata": {},
   "source": [
    "## Apporach 1) Brute Force"
   ]
  },
  {
   "cell_type": "markdown",
   "metadata": {},
   "source": [
    "<div style='text-align:center'>\n",
    "    <img src=\"https://github.com/Ha-coding-user/LeetCode/blob/main/note_images/5_1.png?raw=true\">\n",
    "</div>"
   ]
  },
  {
   "cell_type": "code",
   "execution_count": null,
   "metadata": {},
   "outputs": [],
   "source": [
    "class Solution:\n",
    "    def longestPalindrome(self, s: str) -> str:\n",
    "\n",
    "        def check(i, j):\n",
    "            left, right = i, j-1\n",
    "\n",
    "            while left < right:\n",
    "                if s[left] != s[right]:\n",
    "                    return False\n",
    "                \n",
    "                left += 1\n",
    "                right -= 1\n",
    "\n",
    "            return True\n",
    "        \n",
    "        for length in range(len(s), 0, -1):\n",
    "            for start in range(len(s) - length + 1):\n",
    "                if check(start, start+length):\n",
    "                    return s[start: start+length]\n",
    "                \n",
    "        return \"\""
   ]
  },
  {
   "cell_type": "markdown",
   "metadata": {},
   "source": [
    "## Approach 2) Dynamic Programming"
   ]
  },
  {
   "cell_type": "markdown",
   "metadata": {},
   "source": [
    "<div style=\"text-align:center\">\n",
    "    <img src=\"https://github.com/Ha-coding-user/LeetCode/blob/main/note_images/5_2.png?raw=true\">\n",
    "</div>"
   ]
  },
  {
   "cell_type": "code",
   "execution_count": null,
   "metadata": {},
   "outputs": [],
   "source": [
    "class Solution:\n",
    "    def longestPalindrome(self, s: str) -> str:\n",
    "        n = len(s)\n",
    "        dp = [[False] * n for _ in range(n)]\n",
    "        ans = [0, 0]\n",
    "\n",
    "        for i in range(n):\n",
    "            dp[i][i] = True\n",
    "\n",
    "        for i in range(n-1):\n",
    "            if s[i] == s[i+1]:\n",
    "                dp[i][i+1] = True\n",
    "                ans = [i, i+1]\n",
    "\n",
    "        for diff in range(2, n):\n",
    "            for i in range(n-diff):\n",
    "                j = i + diff\n",
    "                if s[i] == s[j] and dp[i+1][j-1]:\n",
    "                    dp[i][j] = True\n",
    "                    ans = [i, j]\n",
    "\n",
    "        i, j = ans\n",
    "        return s[i: j+1]"
   ]
  },
  {
   "cell_type": "markdown",
   "metadata": {},
   "source": [
    "## Approach 3) Expand From Center"
   ]
  },
  {
   "cell_type": "markdown",
   "metadata": {},
   "source": [
    "<div style=\"text-align:center\">\n",
    "    <img src=\"https://github.com/Ha-coding-user/LeetCode/blob/main/note_images/5_3.png?raw=true\">\n",
    "</div>"
   ]
  },
  {
   "cell_type": "code",
   "execution_count": null,
   "metadata": {},
   "outputs": [],
   "source": [
    "class Solution:\n",
    "    def longestPalindrome(self, s: str) -> str:\n",
    "        def expand(i, j):\n",
    "            left, right = i, j\n",
    "\n",
    "            while left >= 0 and right < len(s) and s[left] == s[right]:\n",
    "                left -= 1\n",
    "                right += 1\n",
    "\n",
    "            return right - left - 1\n",
    "\n",
    "        ans = [0, 0]\n",
    "\n",
    "        for i in range(len(s)):\n",
    "            odd_length = expand(i, i)\n",
    "            if odd_length > ans[1] - ans[0] + 1:\n",
    "                dist = odd_length // 2\n",
    "                ans = [i-dist, i+dist]\n",
    "\n",
    "            even_length = expand(i, i+1)\n",
    "            if even_length > ans[1] - ans[0] + 1:\n",
    "                dist = even_length//2 - 1\n",
    "                ans = [i - dist, i+1 + dist]\n",
    "\n",
    "        i, j = ans\n",
    "        return s[i:j+1]"
   ]
  }
 ],
 "metadata": {
  "language_info": {
   "name": "python"
  },
  "orig_nbformat": 4
 },
 "nbformat": 4,
 "nbformat_minor": 2
}
